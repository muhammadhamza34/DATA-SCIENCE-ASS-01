{
  "nbformat": 4,
  "nbformat_minor": 0,
  "metadata": {
    "colab": {
      "name": "muhammadhamzaDATA_SCIENCE ASS#01.ipynb",
      "provenance": [],
      "collapsed_sections": []
    },
    "kernelspec": {
      "name": "python3",
      "display_name": "Python 3"
    },
    "language_info": {
      "name": "python"
    }
  },
  "cells": [
    {
      "cell_type": "code",
      "execution_count": 9,
      "metadata": {
        "colab": {
          "base_uri": "https://localhost:8080/"
        },
        "id": "1ubbYEqbK-fj",
        "outputId": "69e7a12a-35d8-4bc5-e0b6-4057402a8193"
      },
      "outputs": [
        {
          "output_type": "stream",
          "name": "stdout",
          "text": [
            "Q:01 Write a python program to print the given string in specific format?\n",
            "Answer :\n",
            "Twinkle, twinkle, little star,\n",
            "         How i Wonder what you are\n",
            "                 Up above the world so high,\n",
            "                 Like a diamond in the sky.\n",
            "Twinkle, twinkle, little star,\n",
            "         How i Wonder what you are\n"
          ]
        }
      ],
      "source": [
        "print(\"Q:01 Write a python program to print the given string in specific format?\")\n",
        "print(\"Answer :\")\n",
        "print('Twinkle, twinkle, little star,')\n",
        "print('         How i Wonder what you are')\n",
        "print('                 Up above the world so high,')\n",
        "print('                 Like a diamond in the sky.')\n",
        "print('Twinkle, twinkle, little star,')\n",
        "print('         How i Wonder what you are')\n"
      ]
    },
    {
      "cell_type": "code",
      "source": [
        "print(\"Q:02 Write a python program to get the python version you are using?\")\n",
        "print(\"Answer :\")\n",
        "import sys\n",
        "print(sys.version)\n"
      ],
      "metadata": {
        "colab": {
          "base_uri": "https://localhost:8080/"
        },
        "id": "TuqOzgvoLWWN",
        "outputId": "5b2357a9-4d15-4be6-b157-5174c56e1465"
      },
      "execution_count": 10,
      "outputs": [
        {
          "output_type": "stream",
          "name": "stdout",
          "text": [
            "Q:02 Write a python program to get the python version you are using?\n",
            "Answer :\n",
            "3.7.12 (default, Sep 10 2021, 00:21:48) \n",
            "[GCC 7.5.0]\n"
          ]
        }
      ]
    },
    {
      "cell_type": "code",
      "source": [
        "from datetime import datetime\n",
        "print(\"Q:03 Write a python program to display the current date and time?\")\n",
        "print(\"Answer :\")\n",
        "\n",
        "current_datetime =datetime.now()\n",
        "print(\"current_datetime:\", current_datetime)\n"
      ],
      "metadata": {
        "colab": {
          "base_uri": "https://localhost:8080/"
        },
        "id": "YdWjpuN0LaKS",
        "outputId": "8e8d5333-1551-457e-ed35-e8a4199f9cdb"
      },
      "execution_count": 12,
      "outputs": [
        {
          "output_type": "stream",
          "name": "stdout",
          "text": [
            "Q:03 Write a python program to display the current date and time?\n",
            "Answer :\n",
            "current_datetime: 2022-01-02 09:49:58.384636\n"
          ]
        }
      ]
    },
    {
      "cell_type": "code",
      "source": [
        "print(\"Q:04 Write a python program which accept the radius of a circle from the user and compute the area?\")\n",
        "print(\"Answer :\")\n",
        "r = float(input('radius of a circle:'))\n",
        "import math\n",
        "frml = math.pi* r **2   #pi=22/7\n",
        "print('area of a circle:' , frml) \n"
      ],
      "metadata": {
        "colab": {
          "base_uri": "https://localhost:8080/"
        },
        "id": "I7rylHpTLhw6",
        "outputId": "9a9bc6b8-94a0-4d84-8a09-82156d25b86f"
      },
      "execution_count": 11,
      "outputs": [
        {
          "output_type": "stream",
          "name": "stdout",
          "text": [
            "Q:04 Write a python program which accept the radius of a circle from the user and compute the area?\n",
            "Answer :\n",
            "radius of a circle:4.5\n",
            "area of a circle: 63.61725123519331\n"
          ]
        }
      ]
    },
    {
      "cell_type": "code",
      "source": [
        "print(\"Q:5 Write a python program which accepts the user's first and last name and print them in revers order with space between them?\")\n",
        "print(\"Answer :\")\n",
        "name_1 = input('first name: ') \n",
        "name_2 = input('last name: ')\n",
        "print('name:' , name_2 + ' ' + name_1)\n"
      ],
      "metadata": {
        "colab": {
          "base_uri": "https://localhost:8080/"
        },
        "id": "wLRo0tEMLnZC",
        "outputId": "7f7c3713-3556-4d63-e1d2-b80544f807e2"
      },
      "execution_count": 13,
      "outputs": [
        {
          "output_type": "stream",
          "name": "stdout",
          "text": [
            "Q:5 Write a python program which accepts the user's first and last name and print them in revers order with space between them?\n",
            "Answer :\n",
            "first name: Muhammad\n",
            "last name: Hamza\n",
            "name: Hamza Muhammad\n"
          ]
        }
      ]
    },
    {
      "cell_type": "code",
      "source": [
        "print(\"Q:6 Write a python program which takes two input from user and print them addition?\")\n",
        "print(\"Answer :\")\n",
        "n1=int(input('First number'))\n",
        "n2=int(input('second number'))\n",
        "print('addition:' , n1+n2)\n"
      ],
      "metadata": {
        "colab": {
          "base_uri": "https://localhost:8080/"
        },
        "id": "o1PNGoCkLu2i",
        "outputId": "4bd290b4-fff3-44ce-c58a-179557c1cbc8"
      },
      "execution_count": 14,
      "outputs": [
        {
          "output_type": "stream",
          "name": "stdout",
          "text": [
            "Q:6 Write a python program which takes two input from user and print them addition?\n",
            "Answer :\n",
            "First number666\n",
            "second number777\n",
            "addition: 1443\n"
          ]
        }
      ]
    }
  ]
}